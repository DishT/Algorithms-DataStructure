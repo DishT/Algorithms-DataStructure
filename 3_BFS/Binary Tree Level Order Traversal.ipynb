{
 "cells": [
  {
   "cell_type": "markdown",
   "metadata": {},
   "source": [
    "# Binary Tree Level Order Traversal\n",
    "\n",
    "Description: https://leetcode.com/problems/binary-tree-level-order-traversal/description/\n",
    "\n",
    "Language : Python\n",
    "\n",
    "***Stategy***\n",
    "\n",
    "0. Exception : if root not exist\n",
    "1. Create q for root\n",
    "2. Search for whole tree : while q\n",
    "3. Search for each layer : for loop + Quene\n",
    "4. Return the result\n",
    "\n",
    "Written by ChunChieh Tsai"
   ]
  },
  {
   "cell_type": "code",
   "execution_count": 1,
   "metadata": {
    "collapsed": true
   },
   "outputs": [],
   "source": [
    "\"\"\"\n",
    "Definition of TreeNode:\n",
    "class TreeNode:\n",
    "    def __init__(self, val):\n",
    "        self.val = val\n",
    "        self.left, self.right = None, None\n",
    "\"\"\"\n",
    "\n",
    "\n",
    "class Solution:\n",
    "    \"\"\"\n",
    "    @param: root: A Tree\n",
    "    @return: Level order a list of lists of integer\n",
    "    \"\"\"\n",
    "    def levelOrder(self, root):\n",
    "        # write your code here\n",
    "        # Exception operation\n",
    "        \n",
    "        self.result = []\n",
    "        if not root: \n",
    "            return []\n",
    "        \n",
    "        # 1. Create Q, Results\n",
    "        q = [root]\n",
    "        \n",
    "        # 2. While Q : Layer search\n",
    "        while q :\n",
    "            new_q = []\n",
    "            self.result.append([node.val for node in q])\n",
    "        # 3. For loop : for each layer\n",
    "            for node in q:\n",
    "                if node.left:\n",
    "                    new_q.append(node.left)\n",
    "                if node.right:\n",
    "                    new_q.append(node.right)\n",
    "                # pop out the old node\n",
    "            q = new_q\n",
    "        # 4. Return result\n",
    "        return self.result"
   ]
  },
  {
   "cell_type": "code",
   "execution_count": null,
   "metadata": {
    "collapsed": true
   },
   "outputs": [],
   "source": []
  }
 ],
 "metadata": {
  "kernelspec": {
   "display_name": "Python 3",
   "language": "python",
   "name": "python3"
  },
  "language_info": {
   "codemirror_mode": {
    "name": "ipython",
    "version": 3
   },
   "file_extension": ".py",
   "mimetype": "text/x-python",
   "name": "python",
   "nbconvert_exporter": "python",
   "pygments_lexer": "ipython3",
   "version": "3.5.2"
  }
 },
 "nbformat": 4,
 "nbformat_minor": 2
}
