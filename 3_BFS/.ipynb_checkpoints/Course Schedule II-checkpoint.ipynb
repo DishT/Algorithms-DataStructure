{
 "cells": [
  {
   "cell_type": "markdown",
   "metadata": {},
   "source": [
    "# 210. Course Schedule II\n",
    "\n",
    "Description: https://leetcode.com/problems/course-schedule-ii/description/\n",
    "\n",
    "Language : Python\n",
    "\n",
    "***Stategy***\n",
    "\n",
    "0. Exception : if root not exist\n",
    "1. Create q for root\n",
    "2. Search for whole tree : while q\n",
    "3. Search for each layer : for loop + Quene\n",
    "4. Return the result\n",
    "\n",
    "Written by ChunChieh Tsai"
   ]
  },
  {
   "cell_type": "code",
   "execution_count": null,
   "metadata": {
    "collapsed": true
   },
   "outputs": [],
   "source": []
  }
 ],
 "metadata": {
  "kernelspec": {
   "display_name": "Python 3",
   "language": "python",
   "name": "python3"
  },
  "language_info": {
   "codemirror_mode": {
    "name": "ipython",
    "version": 3
   },
   "file_extension": ".py",
   "mimetype": "text/x-python",
   "name": "python",
   "nbconvert_exporter": "python",
   "pygments_lexer": "ipython3",
   "version": "3.5.2"
  }
 },
 "nbformat": 4,
 "nbformat_minor": 2
}
