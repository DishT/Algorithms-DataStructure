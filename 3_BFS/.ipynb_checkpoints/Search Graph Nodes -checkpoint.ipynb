{
 "cells": [
  {
   "cell_type": "markdown",
   "metadata": {},
   "source": [
    "# Search Graph Nodes \n",
    "\n",
    "Description: http://www.lintcode.com/en/problem/search-graph-nodes/#\n",
    "\n",
    "Language : Python\n",
    "\n",
    "***Stategy***\n",
    "\n",
    "0. Create the Queue\n",
    "1. BFS for each layer\n",
    "\n",
    "# Better Performance\n",
    "\n",
    "0. release the space if you find the values != target\n",
    "1. Filter the values[] first for saving hash table searching time\n",
    "\n",
    "Written by ChunChieh Tsai"
   ]
  },
  {
   "cell_type": "code",
   "execution_count": null,
   "metadata": {
    "collapsed": true
   },
   "outputs": [],
   "source": [
    "class Solution:\n",
    "    \"\"\"\n",
    "    @param: graph: a list of Undirected graph node\n",
    "    @param: values: a hash mapping, <UndirectedGraphNode, (int)value>\n",
    "    @param: node: an Undirected graph node\n",
    "    @param: target: An integer\n",
    "    @return: a node\n",
    "    \"\"\"\n",
    "    def searchNode(self, graph, values, node, target):\n",
    "        # write your code here\n",
    "        # 1. Create a tmp storge\n",
    "        import Queue\n",
    "        q = Queue.Queue(maxsize = len(graph))\n",
    "        if values[node] == target:\n",
    "            return node\n",
    "        \n",
    "        q.put(node)\n",
    "        # Better performance : space release\n",
    "        del values[node]\n",
    "        \n",
    "        #. 2. BFS for each layer\n",
    "        while not q.empty():\n",
    "            head = q.get()\n",
    "            \n",
    "            for node in head.neighbors:\n",
    "                # Better Performance : first filter\n",
    "                if node in values:\n",
    "                    if values[node] == target:\n",
    "                        return node\n",
    "                q.put(node)\n",
    "                # Better performance : space release\n",
    "                del values[node]\n",
    "        return None"
   ]
  }
 ],
 "metadata": {
  "kernelspec": {
   "display_name": "Python 3",
   "language": "python",
   "name": "python3"
  },
  "language_info": {
   "codemirror_mode": {
    "name": "ipython",
    "version": 3
   },
   "file_extension": ".py",
   "mimetype": "text/x-python",
   "name": "python",
   "nbconvert_exporter": "python",
   "pygments_lexer": "ipython3",
   "version": "3.5.2"
  }
 },
 "nbformat": 4,
 "nbformat_minor": 2
}
